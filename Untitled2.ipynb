{
  "nbformat": 4,
  "nbformat_minor": 0,
  "metadata": {
    "colab": {
      "name": "Untitled2.ipynb",
      "version": "0.3.2",
      "provenance": [],
      "include_colab_link": true
    },
    "kernelspec": {
      "name": "python3",
      "display_name": "Python 3"
    }
  },
  "cells": [
    {
      "cell_type": "markdown",
      "metadata": {
        "id": "view-in-github",
        "colab_type": "text"
      },
      "source": [
        "<a href=\"https://colab.research.google.com/github/vivek-777/Face-Emotion-Recognition/blob/master/Untitled2.ipynb\" target=\"_parent\"><img src=\"https://colab.research.google.com/assets/colab-badge.svg\" alt=\"Open In Colab\"/></a>"
      ]
    },
    {
      "metadata": {
        "id": "s9iR2gf44NKz",
        "colab_type": "code",
        "colab": {
          "base_uri": "https://localhost:8080/",
          "height": 368
        },
        "outputId": "ce80fa81-6b6a-47be-c373-34ef7db1093e"
      },
      "cell_type": "code",
      "source": [
        "from google.colab import files\n",
        "import cv2\n",
        "import glob\n",
        "\n",
        "import cntk\n",
        "from cntk.layers import Convolution2D, MaxPooling ,Activation\n",
        "from tflearn.layers.normalization import local_response_normalization\n",
        "\n",
        "from sklearn.preprocessing import LabelEncoder\n",
        "\n",
        "\n",
        "#######################################################################################################\n",
        "\n",
        "\n",
        "\"\"\"FACE DETECTION PART\"\"\"\n",
        "\n",
        "\n",
        "faceDet = cv2.CascadeClassifier(\"haarcascade_frontalface_alt.xml\")\n",
        "emotions = ['angry','disgust','sad','fear','surprise','happy','neutral']\n",
        "features = []\n",
        "\n",
        "def detect_faces(emotion):\n",
        "    files = glob.glob(\"jaffe/%s/*\" %(emotion))\n",
        "    filenumber,i = 0,0\n",
        "    for f in files:\n",
        "        gray = cv2.imread(f)\n",
        "        \"\"\"gray = cv2.cvtColor(gray, cv2.COLOR_BGR2GRAY) #Convert image to grayscale\"\"\"\n",
        "        face = faceDet.detectMultiScale(gray, scaleFactor=1.1, minNeighbors=10, minSize=(5, 5), flags=cv2.CASCADE_SCALE_IMAGE)\n",
        "        \"\"\"if len(face) == 1:\n",
        "            facefeatures = face\n",
        "        else:\n",
        "            facefeatures = \"\"  \"\"\"\n",
        "        for (x, y, w, h) in face:\n",
        "            gray = gray[y:y+h, x:x+w]\n",
        "            try:\n",
        "                out = cv2.resize(gray, (224, 224))\n",
        "                features.append(Alexnet(out))\n",
        "                cv2.imwrite(\"dataset/%s/%s.jpg\" %(emotion,filenumber), out)\n",
        "            except:\n",
        "               pass\n",
        "        filenumber += 1\n",
        "\n",
        "for emotion in emotions:\n",
        "    detect_faces(emotion)\n",
        "    \n",
        "#######################################################################################################\n",
        "\n",
        "\n",
        "def Alexnet(network):\n",
        "    network = Convolutional2D(network, (11,11), 96, init=normal(0.01), pad=False, strides=4, bias=True, name=\"conv1\")\n",
        "    network = Activation(network, activation=relu, name='relu1')\n",
        "    network = MaxPooling(network, (3,3), strides=2, name='pool1')\n",
        "    network = local_response_normalization(network)\n",
        "    \n",
        "    network = Convolutional2D(network, (5,5), 256, init=normal(0.01), pad=False, strides=1, bias=True, name=\"conv2\")\n",
        "    network = Activation(network, activation=relu, name='relu2')\n",
        "    network = MaxPooling(network, (3,3), strides=2, pad=False, name='pool2')\n",
        "    network = local_response_normalization(network)\n",
        "    \n",
        "    network = Convolutional2D(network, (3,3), 384, init=normal(0.01), pad=False, strides=1, bias=True, name=\"conv3\")\n",
        "    network = Activation(network, activation=relu, name='relu3')\n",
        "\n",
        "    network = Convolutional2D(network, (3,3), 384, init=normal(0.01), pad=False, strides=1, bias=True, name=\"conv4\")\n",
        "    network = Activation(network, activation=relu, name='relu4')\n",
        "\n",
        "    network = Convolutional2D(network, (3,3), 256, init=normal(0.01), pad=False, strides=1, bias=True, name=\"conv5\")\n",
        "    network = Activation(network, activation=relu, name='relu5')\n",
        "    network = MaxPooling(network, (3,3), strides=2, pad=False, name='pool5')\n",
        "    return(network)\n",
        "\n",
        "#######################################################################################################\n",
        "\n",
        "\n",
        "labelencoder = LabelEncoder()\n",
        "x = labelencoder.fit_transform(emotions)\n",
        "label_emotion=[*[x[0]]*30,*[x[1]]*29,*[x[2]]*32,*[x[3]]*31,*[x[4]]*30,*[x[5]]*31,*[x[6]]*30]\n",
        "\n",
        "\n",
        "#######################################################################################################\n",
        "\n",
        "\n",
        "f = open(\"face_date.csv\", \"w\")\n",
        "for i in range(len(features)):\n",
        "    f.write(\"{},{}\\n\".format(features[i], label_emotions[i]))\n",
        "f.close()\n",
        "\n",
        "\n",
        "#######################################################################################################\n",
        "\n",
        "\n"
      ],
      "execution_count": 1,
      "outputs": [
        {
          "output_type": "error",
          "ename": "ModuleNotFoundError",
          "evalue": "ignored",
          "traceback": [
            "\u001b[0;31m---------------------------------------------------------------------------\u001b[0m",
            "\u001b[0;31mModuleNotFoundError\u001b[0m                       Traceback (most recent call last)",
            "\u001b[0;32m<ipython-input-1-ca9ca07ac805>\u001b[0m in \u001b[0;36m<module>\u001b[0;34m()\u001b[0m\n\u001b[1;32m      3\u001b[0m \u001b[0;32mimport\u001b[0m \u001b[0mglob\u001b[0m\u001b[0;34m\u001b[0m\u001b[0;34m\u001b[0m\u001b[0m\n\u001b[1;32m      4\u001b[0m \u001b[0;34m\u001b[0m\u001b[0m\n\u001b[0;32m----> 5\u001b[0;31m \u001b[0;32mimport\u001b[0m \u001b[0mcntk\u001b[0m\u001b[0;34m\u001b[0m\u001b[0;34m\u001b[0m\u001b[0m\n\u001b[0m\u001b[1;32m      6\u001b[0m \u001b[0;32mfrom\u001b[0m \u001b[0mcntk\u001b[0m\u001b[0;34m.\u001b[0m\u001b[0mlayers\u001b[0m \u001b[0;32mimport\u001b[0m \u001b[0mConvolution2D\u001b[0m\u001b[0;34m,\u001b[0m \u001b[0mMaxPooling\u001b[0m \u001b[0;34m,\u001b[0m\u001b[0mActivation\u001b[0m\u001b[0;34m\u001b[0m\u001b[0;34m\u001b[0m\u001b[0m\n\u001b[1;32m      7\u001b[0m \u001b[0;32mfrom\u001b[0m \u001b[0mtflearn\u001b[0m\u001b[0;34m.\u001b[0m\u001b[0mlayers\u001b[0m\u001b[0;34m.\u001b[0m\u001b[0mnormalization\u001b[0m \u001b[0;32mimport\u001b[0m \u001b[0mlocal_response_normalization\u001b[0m\u001b[0;34m\u001b[0m\u001b[0;34m\u001b[0m\u001b[0m\n",
            "\u001b[0;31mModuleNotFoundError\u001b[0m: No module named 'cntk'",
            "",
            "\u001b[0;31m---------------------------------------------------------------------------\u001b[0;32m\nNOTE: If your import is failing due to a missing package, you can\nmanually install dependencies using either !pip or !apt.\n\nTo view examples of installing some common dependencies, click the\n\"Open Examples\" button below.\n\u001b[0;31m---------------------------------------------------------------------------\u001b[0m\n"
          ]
        }
      ]
    }
  ]
}